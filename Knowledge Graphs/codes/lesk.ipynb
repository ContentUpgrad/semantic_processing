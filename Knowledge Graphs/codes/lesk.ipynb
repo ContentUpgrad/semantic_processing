{
 "cells": [
  {
   "cell_type": "markdown",
   "id": "shaped-norway",
   "metadata": {},
   "source": [
    "## Word-Sense Disambiguation"
   ]
  },
  {
   "cell_type": "code",
   "execution_count": null,
   "id": "genetic-terror",
   "metadata": {},
   "outputs": [],
   "source": [
    "from nltk.corpus import wordnet as wn\n",
    "from nltk import wsd"
   ]
  },
  {
   "cell_type": "code",
   "execution_count": null,
   "id": "adult-bangladesh",
   "metadata": {},
   "outputs": [],
   "source": [
    "X = 'The die is cast.'\n",
    "Y = 'Roll the die to get a 6.'\n",
    "Z = 'What is dead may never die.'"
   ]
  },
  {
   "cell_type": "code",
   "execution_count": null,
   "id": "antique-burlington",
   "metadata": {},
   "outputs": [],
   "source": [
    "wn.synsets('die')"
   ]
  },
  {
   "cell_type": "code",
   "execution_count": null,
   "id": "governing-montana",
   "metadata": {},
   "outputs": [],
   "source": [
    "wn.synsets('die', pos=wn.NOUN)"
   ]
  },
  {
   "cell_type": "code",
   "execution_count": null,
   "id": "located-bookmark",
   "metadata": {},
   "outputs": [],
   "source": [
    "for syn in wn.synsets('die', pos=wn.NOUN):\n",
    "    print(syn.definition())"
   ]
  },
  {
   "cell_type": "code",
   "execution_count": null,
   "id": "after-party",
   "metadata": {},
   "outputs": [],
   "source": [
    "for syn in wn.synsets('die', pos=wn.VERB):\n",
    "    print(syn.definition())"
   ]
  },
  {
   "cell_type": "markdown",
   "id": "bacterial-effect",
   "metadata": {},
   "source": [
    "## Word-Sense Disambiguation with Lesk Algorithm"
   ]
  },
  {
   "cell_type": "code",
   "execution_count": null,
   "id": "threaded-tourism",
   "metadata": {},
   "outputs": [],
   "source": [
    "print(X)\n",
    "wsd.lesk(X.split(), 'die')"
   ]
  },
  {
   "cell_type": "code",
   "execution_count": null,
   "id": "fluid-cargo",
   "metadata": {},
   "outputs": [],
   "source": [
    "_.definition()"
   ]
  },
  {
   "cell_type": "code",
   "execution_count": null,
   "id": "independent-melissa",
   "metadata": {},
   "outputs": [],
   "source": [
    "wsd.lesk(X.split(), 'die', pos=wn.NOUN).definition()"
   ]
  },
  {
   "cell_type": "code",
   "execution_count": null,
   "id": "progressive-origin",
   "metadata": {},
   "outputs": [],
   "source": [
    "print(Y)\n",
    "wsd.lesk(Y.split(), 'die').definition()"
   ]
  },
  {
   "cell_type": "code",
   "execution_count": null,
   "id": "proof-while",
   "metadata": {},
   "outputs": [],
   "source": [
    "wsd.lesk(Y.split(), 'die', pos=wn.NOUN).definition()"
   ]
  },
  {
   "cell_type": "code",
   "execution_count": null,
   "id": "middle-object",
   "metadata": {},
   "outputs": [],
   "source": [
    "print(Z)\n",
    "wsd.lesk(Z.split(), 'die').definition()"
   ]
  },
  {
   "cell_type": "code",
   "execution_count": null,
   "id": "organizational-joint",
   "metadata": {},
   "outputs": [],
   "source": [
    "wsd.lesk(Z.split(), 'die', pos=wn.VERB).definition()"
   ]
  },
  {
   "cell_type": "markdown",
   "id": "valuable-harbor",
   "metadata": {},
   "source": [
    "## Automatic POS Tagging + Lesk with spaCy"
   ]
  },
  {
   "cell_type": "code",
   "execution_count": null,
   "id": "defensive-trailer",
   "metadata": {},
   "outputs": [],
   "source": [
    "!pip install spacy"
   ]
  },
  {
   "cell_type": "code",
   "execution_count": null,
   "id": "cellular-reflection",
   "metadata": {},
   "outputs": [],
   "source": [
    "from spacy.cli import download\n",
    "from spacy import load\n",
    "# download('en_core_web_sm')\n",
    "nlp = load('en_core_web_sm')"
   ]
  },
  {
   "cell_type": "code",
   "execution_count": null,
   "id": "radical-melbourne",
   "metadata": {},
   "outputs": [],
   "source": [
    "import warnings\n",
    "\n",
    "POS_MAP = {\n",
    "    'VERB': wn.VERB,\n",
    "    'NOUN': wn.NOUN,\n",
    "    'PROPN': wn.NOUN\n",
    "}\n",
    "\n",
    "\n",
    "def lesk(doc, word):\n",
    "    found = False\n",
    "    for token in doc:\n",
    "        if token.text == word:\n",
    "            word = token\n",
    "            found = True\n",
    "            break\n",
    "    if not found:\n",
    "        raise ValueError(f'Word \\\"{word}\\\" does not appear in the document: {doc.text}.')\n",
    "    pos = POS_MAP.get(word.pos_, False)\n",
    "    if not pos:\n",
    "        warnings.warn(f'POS tag for {word.text} not found in wordnet. Falling back to default Lesk behaviour.')\n",
    "    args = [c.text for c in doc], word.text\n",
    "    kwargs = dict(pos=pos)\n",
    "    return wsd.lesk(*args, **kwargs)"
   ]
  },
  {
   "cell_type": "code",
   "execution_count": null,
   "id": "monetary-disaster",
   "metadata": {},
   "outputs": [],
   "source": [
    "doc = nlp('Roll the die to get a 6.')"
   ]
  },
  {
   "cell_type": "code",
   "execution_count": null,
   "id": "surgical-chrome",
   "metadata": {},
   "outputs": [],
   "source": [
    "lesk(doc, 'die')"
   ]
  },
  {
   "cell_type": "code",
   "execution_count": null,
   "id": "cordless-bankruptcy",
   "metadata": {},
   "outputs": [],
   "source": [
    "lesk(doc, 'die').definition()"
   ]
  },
  {
   "cell_type": "code",
   "execution_count": null,
   "id": "excess-consultancy",
   "metadata": {},
   "outputs": [],
   "source": [
    "lesk(nlp('I work at google.'), 'google').definition()"
   ]
  },
  {
   "cell_type": "code",
   "execution_count": null,
   "id": "infectious-binary",
   "metadata": {},
   "outputs": [],
   "source": [
    "lesk(nlp('I will google it.'), 'google').definition()"
   ]
  },
  {
   "cell_type": "code",
   "execution_count": null,
   "id": "laughing-carolina",
   "metadata": {},
   "outputs": [],
   "source": []
  }
 ],
 "metadata": {
  "kernelspec": {
   "display_name": "Python 3",
   "language": "python",
   "name": "python3"
  },
  "language_info": {
   "codemirror_mode": {
    "name": "ipython",
    "version": 3
   },
   "file_extension": ".py",
   "mimetype": "text/x-python",
   "name": "python",
   "nbconvert_exporter": "python",
   "pygments_lexer": "ipython3",
   "version": "3.8.5"
  }
 },
 "nbformat": 4,
 "nbformat_minor": 5
}
