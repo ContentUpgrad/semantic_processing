{
 "cells": [
  {
   "cell_type": "raw",
   "id": "freelance-naples",
   "metadata": {},
   "source": [
    "----------------------------------------------------------------------\n",
    "Filename : intro-to-wordnet.ipynb\n",
    "Author   : Jaidev Deshpande\n",
    "Purpose  : Understanding Wordnet functionalities\n",
    "Libraries: nltk\n",
    "----------------------------------------------------------------------"
   ]
  },
  {
   "cell_type": "markdown",
   "id": "anonymous-canadian",
   "metadata": {},
   "source": [
    "## [WordNet®](https://wordnet.princeton.edu/) Tutorial\n",
    "\n",
    "### Navigating Wornet Relationships"
   ]
  },
  {
   "cell_type": "code",
   "execution_count": null,
   "id": "widespread-traveler",
   "metadata": {},
   "outputs": [],
   "source": [
    "!pip install nltk"
   ]
  },
  {
   "cell_type": "code",
   "execution_count": null,
   "id": "vocational-clearance",
   "metadata": {},
   "outputs": [],
   "source": [
    "from nltk import download"
   ]
  },
  {
   "cell_type": "code",
   "execution_count": null,
   "id": "sensitive-albany",
   "metadata": {},
   "outputs": [],
   "source": [
    "download('wordnet')"
   ]
  },
  {
   "cell_type": "code",
   "execution_count": null,
   "id": "weird-memory",
   "metadata": {},
   "outputs": [],
   "source": [
    "from nltk.corpus import wordnet"
   ]
  },
  {
   "cell_type": "code",
   "execution_count": null,
   "id": "developing-failure",
   "metadata": {},
   "outputs": [],
   "source": [
    "# Synsets\n",
    "\n",
    "tractor = wordnet.synsets('tractor')\n",
    "tractor"
   ]
  },
  {
   "cell_type": "code",
   "execution_count": null,
   "id": "seasonal-hungary",
   "metadata": {},
   "outputs": [],
   "source": [
    "# Definitions of senses\n",
    "\n",
    "[syn.definition() for syn in tractor]"
   ]
  },
  {
   "cell_type": "code",
   "execution_count": null,
   "id": "active-norwegian",
   "metadata": {},
   "outputs": [],
   "source": [
    "# Hypernyms: Relation between a concept and its superordinate\n",
    "\n",
    "tractor = wordnet.synset('tractor.n.01')\n",
    "tractor.hypernyms()"
   ]
  },
  {
   "cell_type": "code",
   "execution_count": null,
   "id": "arctic-customer",
   "metadata": {},
   "outputs": [],
   "source": [
    "self_propelled_vehicle = wordnet.synset('self-propelled_vehicle.n.01')\n",
    "self_propelled_vehicle.hypernyms()"
   ]
  },
  {
   "cell_type": "code",
   "execution_count": null,
   "id": "invalid-lease",
   "metadata": {},
   "outputs": [],
   "source": [
    "# Meronyms: Relation between a part and its whole\n",
    "\n",
    "wheeled_vehicle = wordnet.synset('wheeled_vehicle.n.01')\n",
    "wheeled_vehicle.part_meronyms()"
   ]
  },
  {
   "cell_type": "code",
   "execution_count": null,
   "id": "brown-weekend",
   "metadata": {},
   "outputs": [],
   "source": [
    "# Hyponyms: Relation between a concept and its subordinate\n",
    "\n",
    "wheeled_vehicle.hyponyms()"
   ]
  },
  {
   "cell_type": "code",
   "execution_count": null,
   "id": "theoretical-bargain",
   "metadata": {},
   "outputs": [],
   "source": [
    "# Holonyms: Relation between whole and its parts\n",
    "\n",
    "axle = wordnet.synset('axle.n.01')\n",
    "axle.part_holonyms()"
   ]
  },
  {
   "cell_type": "code",
   "execution_count": null,
   "id": "identical-shoulder",
   "metadata": {},
   "outputs": [],
   "source": [
    "self_propelled_vehicle.hyponyms()"
   ]
  },
  {
   "cell_type": "code",
   "execution_count": null,
   "id": "quick-strengthening",
   "metadata": {},
   "outputs": [],
   "source": [
    "motor_vehicle = wordnet.synset('motor_vehicle.n.01')\n",
    "motor_vehicle.hyponyms()"
   ]
  },
  {
   "cell_type": "code",
   "execution_count": null,
   "id": "egyptian-appliance",
   "metadata": {},
   "outputs": [],
   "source": [
    "car = wordnet.synset('car.n.01')\n",
    "car.part_meronyms()"
   ]
  },
  {
   "cell_type": "code",
   "execution_count": null,
   "id": "civic-worst",
   "metadata": {},
   "outputs": [],
   "source": []
  }
 ],
 "metadata": {
  "kernelspec": {
   "display_name": "Python 3",
   "language": "python",
   "name": "python3"
  },
  "language_info": {
   "codemirror_mode": {
    "name": "ipython",
    "version": 3
   },
   "file_extension": ".py",
   "mimetype": "text/x-python",
   "name": "python",
   "nbconvert_exporter": "python",
   "pygments_lexer": "ipython3",
   "version": "3.8.5"
  }
 },
 "nbformat": 4,
 "nbformat_minor": 5
}
